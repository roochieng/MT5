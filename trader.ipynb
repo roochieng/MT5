{
 "cells": [
  {
   "cell_type": "code",
   "execution_count": 47,
   "metadata": {},
   "outputs": [],
   "source": [
    "# Import packages\n",
    "\n",
    "import pandas\n",
    "from datetime import datetime\n",
    "import matplotlib.pyplot as plt\n",
    "import pandas as pd\n",
    "from pandas.plotting import register_matplotlib_converters\n",
    "register_matplotlib_converters()\n",
    "import MetaTrader5 as mt5\n",
    "import os\n",
    "import time"
   ]
  },
  {
   "cell_type": "code",
   "execution_count": 48,
   "metadata": {},
   "outputs": [],
   "source": [
    "# Logins\n",
    "from dotenv import load_dotenv\n",
    "load_dotenv()\n",
    "login = os.environ.get('AVATRADE_LOGIN')\n",
    "password = os.environ.get('AVATRADE_PASSOWRD')\n",
    "server = os.environ.get('AVATRADE_SERVER')\n",
    "path = os.environ.get(\"AVATRADE_PATH\")"
   ]
  },
  {
   "cell_type": "code",
   "execution_count": 49,
   "metadata": {},
   "outputs": [
    {
     "data": {
      "text/plain": [
       "True"
      ]
     },
     "execution_count": 49,
     "metadata": {},
     "output_type": "execute_result"
    }
   ],
   "source": [
    "mt5.initialize(\n",
    "    path = path\n",
    "    # login = login,\n",
    "    # password = password,\n",
    "    # server = server,\n",
    "    # portable = False\n",
    ")"
   ]
  },
  {
   "cell_type": "code",
   "execution_count": 50,
   "metadata": {},
   "outputs": [],
   "source": [
    "account_info = mt5.account_info()"
   ]
  },
  {
   "cell_type": "code",
   "execution_count": 51,
   "metadata": {},
   "outputs": [],
   "source": [
    "ticker = \"EURUSD\"\n",
    "interval = mt5.TIMEFRAME_H1\n",
    "from_date = datetime.now()\n",
    "rows = 200"
   ]
  },
  {
   "cell_type": "code",
   "execution_count": 52,
   "metadata": {},
   "outputs": [],
   "source": [
    "rates = mt5.copy_rates_from(ticker, interval, from_date, rows)"
   ]
  },
  {
   "cell_type": "code",
   "execution_count": 53,
   "metadata": {},
   "outputs": [
    {
     "data": {
      "text/plain": [
       "101355862"
      ]
     },
     "execution_count": 53,
     "metadata": {},
     "output_type": "execute_result"
    }
   ],
   "source": [
    "account_info.login"
   ]
  },
  {
   "cell_type": "code",
   "execution_count": 54,
   "metadata": {},
   "outputs": [],
   "source": [
    "symbols = mt5.symbols_get()"
   ]
  },
  {
   "cell_type": "code",
   "execution_count": 55,
   "metadata": {},
   "outputs": [],
   "source": [
    "count=0\n",
    "# display the first five ones\n",
    "for s in symbols:\n",
    "    count+=1\n",
    "    # print(\"{}. {}\".format(count,s.name))"
   ]
  },
  {
   "cell_type": "code",
   "execution_count": 56,
   "metadata": {},
   "outputs": [
    {
     "name": "stdout",
     "output_type": "stream",
     "text": [
      "symbol_info_dict() as dataframe:\n"
     ]
    },
    {
     "data": {
      "text/html": [
       "<div>\n",
       "<style scoped>\n",
       "    .dataframe tbody tr th:only-of-type {\n",
       "        vertical-align: middle;\n",
       "    }\n",
       "\n",
       "    .dataframe tbody tr th {\n",
       "        vertical-align: top;\n",
       "    }\n",
       "\n",
       "    .dataframe thead th {\n",
       "        text-align: right;\n",
       "    }\n",
       "</style>\n",
       "<table border=\"1\" class=\"dataframe\">\n",
       "  <thead>\n",
       "    <tr style=\"text-align: right;\">\n",
       "      <th></th>\n",
       "      <th>property</th>\n",
       "      <th>value</th>\n",
       "    </tr>\n",
       "  </thead>\n",
       "  <tbody>\n",
       "    <tr>\n",
       "      <th>0</th>\n",
       "      <td>custom</td>\n",
       "      <td>False</td>\n",
       "    </tr>\n",
       "    <tr>\n",
       "      <th>1</th>\n",
       "      <td>chart_mode</td>\n",
       "      <td>0</td>\n",
       "    </tr>\n",
       "    <tr>\n",
       "      <th>2</th>\n",
       "      <td>select</td>\n",
       "      <td>True</td>\n",
       "    </tr>\n",
       "    <tr>\n",
       "      <th>3</th>\n",
       "      <td>visible</td>\n",
       "      <td>True</td>\n",
       "    </tr>\n",
       "    <tr>\n",
       "      <th>4</th>\n",
       "      <td>session_deals</td>\n",
       "      <td>0</td>\n",
       "    </tr>\n",
       "    <tr>\n",
       "      <th>...</th>\n",
       "      <td>...</td>\n",
       "      <td>...</td>\n",
       "    </tr>\n",
       "    <tr>\n",
       "      <th>91</th>\n",
       "      <td>formula</td>\n",
       "      <td></td>\n",
       "    </tr>\n",
       "    <tr>\n",
       "      <th>92</th>\n",
       "      <td>isin</td>\n",
       "      <td></td>\n",
       "    </tr>\n",
       "    <tr>\n",
       "      <th>93</th>\n",
       "      <td>name</td>\n",
       "      <td>EURCAD</td>\n",
       "    </tr>\n",
       "    <tr>\n",
       "      <th>94</th>\n",
       "      <td>page</td>\n",
       "      <td>http://www.google.com/finance?q=EURCAD</td>\n",
       "    </tr>\n",
       "    <tr>\n",
       "      <th>95</th>\n",
       "      <td>path</td>\n",
       "      <td>Forex\\Crosses\\EURCAD</td>\n",
       "    </tr>\n",
       "  </tbody>\n",
       "</table>\n",
       "<p>96 rows × 2 columns</p>\n",
       "</div>"
      ],
      "text/plain": [
       "         property                                   value\n",
       "0          custom                                   False\n",
       "1      chart_mode                                       0\n",
       "2          select                                    True\n",
       "3         visible                                    True\n",
       "4   session_deals                                       0\n",
       "..            ...                                     ...\n",
       "91        formula                                        \n",
       "92           isin                                        \n",
       "93           name                                  EURCAD\n",
       "94           page  http://www.google.com/finance?q=EURCAD\n",
       "95           path                    Forex\\Crosses\\EURCAD\n",
       "\n",
       "[96 rows x 2 columns]"
      ]
     },
     "execution_count": 56,
     "metadata": {},
     "output_type": "execute_result"
    }
   ],
   "source": [
    "# attempt to enable the display of the EURCAD in MarketWatch\n",
    "selected=mt5.symbol_select(\"EURCAD\",True)\n",
    "if not selected:\n",
    "    print(\"Failed to select EURCAD, error code =\",mt5.last_error())\n",
    "else:\n",
    "    symbol_info=mt5.symbol_info(\"EURCAD\")\n",
    "    symbol_info_dict = symbol_info._asdict()\n",
    "\n",
    "    # convert the dictionary into DataFrame and print\n",
    "    df=pd.DataFrame(list(symbol_info_dict.items()),columns=['property','value'])\n",
    "    print(\"symbol_info_dict() as dataframe:\")\n",
    "df"
   ]
  },
  {
   "cell_type": "code",
   "execution_count": null,
   "metadata": {},
   "outputs": [],
   "source": []
  },
  {
   "cell_type": "code",
   "execution_count": 57,
   "metadata": {},
   "outputs": [
    {
     "name": "stdout",
     "output_type": "stream",
     "text": [
      "SymbolInfo(custom=False, chart_mode=0, select=True, visible=True, session_deals=0, session_buy_orders=0, session_sell_orders=0, volume=0, volumehigh=0, volumelow=0, time=1708715840, digits=3, spread=18, spread_float=True, ticks_bookdepth=0, trade_calc_mode=0, trade_mode=4, start_time=0, expiration_time=0, trade_stops_level=30, trade_freeze_level=0, trade_exemode=2, swap_mode=5, swap_rollover3days=3, margin_hedged_use_leg=False, expiration_mode=15, filling_mode=1, order_mode=55, order_gtc_mode=0, option_mode=0, option_right=0, bid=162.771, bidhigh=163.204, bidlow=162.678, ask=162.789, askhigh=163.222, asklow=162.696, last=0.0, lasthigh=0.0, lastlow=0.0, volume_real=0.0, volumehigh_real=0.0, volumelow_real=0.0, option_strike=0.0, point=0.001, trade_tick_value=0.6649024588092927, trade_tick_value_profit=0.6649024588092927, trade_tick_value_loss=0.6649599361638462, trade_tick_size=0.001, trade_contract_size=100000.0, trade_accrued_interest=0.0, trade_face_value=0.0, trade_liquidity_rate=0.0, volume_min=0.01, volume_max=201.0, volume_step=0.01, volume_limit=1000.0, swap_long=2.1352, swap_short=-5.728, margin_initial=0.0, margin_maintenance=0.0, session_volume=0.0, session_turnover=0.0, session_interest=0.0, session_buy_orders_volume=0.0, session_sell_orders_volume=0.0, session_open=162.887, session_close=162.891, session_aw=0.0, session_price_settlement=0.0, session_price_limit_min=0.0, session_price_limit_max=0.0, margin_hedged=100000.0, price_change=-0.0737, price_volatility=0.0, price_theoretical=0.0, price_greeks_delta=0.0, price_greeks_theta=0.0, price_greeks_gamma=0.0, price_greeks_vega=0.0, price_greeks_rho=0.0, price_greeks_omega=0.0, price_sensitivity=0.0, basis='', category='', currency_base='EUR', currency_profit='JPY', currency_margin='EUR', bank='F', description='1 Lot= 100,000 EUR', exchange='', formula='', isin='', name='EURJPY', page='http://www.google.com/finance?q=EURJPY', path='Forex\\\\Majors\\\\EURJPY')\n"
     ]
    }
   ],
   "source": [
    "#Display symbol info\n",
    "# display EURJPY symbol properties\n",
    "symbol_info=mt5.symbol_info(\"EURJPY\")\n",
    "if symbol_info!=None:\n",
    "    # display the terminal data 'as is'    \n",
    "    print(symbol_info)\n"
   ]
  },
  {
   "cell_type": "code",
   "execution_count": 58,
   "metadata": {},
   "outputs": [
    {
     "data": {
      "text/plain": [
       "True"
      ]
     },
     "execution_count": 58,
     "metadata": {},
     "output_type": "execute_result"
    }
   ],
   "source": [
    "#Select a symbol\n",
    "selected=mt5.symbol_select(\"EURUSD\",True)\n",
    "selected"
   ]
  },
  {
   "cell_type": "code",
   "execution_count": 63,
   "metadata": {},
   "outputs": [
    {
     "name": "stdout",
     "output_type": "stream",
     "text": [
      "None\n",
      "mt5.market_book_add('EURUSD') failed, error code = (1, 'Success')\n"
     ]
    }
   ],
   "source": []
  },
  {
   "cell_type": "code",
   "execution_count": 64,
   "metadata": {},
   "outputs": [
    {
     "name": "stdout",
     "output_type": "stream",
     "text": [
      "Tick(time=1708716084, bid=1.26759, ask=1.2677399999999999, last=0.0, volume=0, time_msc=1708716084440, flags=6, volume_real=0.0)\n"
     ]
    }
   ],
   "source": [
    "# Get the last tick of the symbol\n",
    "lasttick=mt5.symbol_info_tick(\"GBPUSD\")\n",
    "print(lasttick)"
   ]
  },
  {
   "cell_type": "code",
   "execution_count": 65,
   "metadata": {},
   "outputs": [
    {
     "name": "stdout",
     "output_type": "stream",
     "text": [
      "No any position, error code=(1, 'Success')\n"
     ]
    }
   ],
   "source": [
    "# get open positions on GBPUSD\n",
    "positions=mt5.positions_get()\n",
    "if not positions:\n",
    "    print(\"No any position, error code={}\".format(mt5.last_error()))\n",
    "elif len(positions)>0:\n",
    "    print(\"Total positions on GBPUSD =\",len(positions))\n",
    "    # display all open positions\n",
    "    for position in positions:\n",
    "        print(position)"
   ]
  },
  {
   "cell_type": "code",
   "execution_count": null,
   "metadata": {},
   "outputs": [],
   "source": []
  },
  {
   "cell_type": "code",
   "execution_count": null,
   "metadata": {},
   "outputs": [],
   "source": [
    "# shut down connection to the MetaTrader 5 terminal\n",
    "mt5.shutdown()"
   ]
  }
 ],
 "metadata": {
  "kernelspec": {
   "display_name": "env",
   "language": "python",
   "name": "python3"
  },
  "language_info": {
   "codemirror_mode": {
    "name": "ipython",
    "version": 3
   },
   "file_extension": ".py",
   "mimetype": "text/x-python",
   "name": "python",
   "nbconvert_exporter": "python",
   "pygments_lexer": "ipython3",
   "version": "3.11.5"
  }
 },
 "nbformat": 4,
 "nbformat_minor": 2
}
